{
 "cells": [
  {
   "cell_type": "markdown",
   "metadata": {
    "tags": []
   },
   "source": [
    "# Lab | Data Structures "
   ]
  },
  {
   "cell_type": "code",
   "execution_count": 2,
   "metadata": {
    "tags": []
   },
   "outputs": [
    {
     "name": "stdin",
     "output_type": "stream",
     "text": [
      "Enter the value for t-shirt:  10\n",
      "Enter the value for mug:  10\n",
      "Enter the value for hat:  10\n",
      "Enter the value for book:  10\n",
      "Enter the value for keychain:  10\n"
     ]
    },
    {
     "name": "stdout",
     "output_type": "stream",
     "text": [
      "inventory: {'t-shirt': '10', 'mug': '10', 'hat': '10', 'book': '10', 'keychain': '10'}\n"
     ]
    }
   ],
   "source": [
    "# Define items list\n",
    "products = [\"t-shirt\", \"mug\", \"hat\", \"book\", \"keychain\"]\n",
    "\n",
    "# Create an empty dictionary\n",
    "inventory = {}\n",
    "\n",
    "# Ask user input to specify quantity of each product available in the inventory\n",
    "# Use a loop to add values\n",
    "for item in products:\n",
    "    value = input(f\"Enter the value for {item}: \")\n",
    "    inventory[item] = value\n",
    "\n",
    "# Print the resulting dictionary\n",
    "print(\"inventory:\", inventory)"
   ]
  },
  {
   "cell_type": "code",
   "execution_count": 4,
   "metadata": {
    "tags": []
   },
   "outputs": [
    {
     "name": "stdin",
     "output_type": "stream",
     "text": [
      " Enter name of the products from the list defined mug\n",
      " Enter name of the products from the list defined hat\n",
      " Enter name of the products from the list defined keychain\n"
     ]
    },
    {
     "name": "stdout",
     "output_type": "stream",
     "text": [
      "Products in customer order:  {'hat', 'keychain', 'mug'}\n"
     ]
    }
   ],
   "source": [
    "# create an empty set\n",
    "customer_orders = set ()\n",
    "\n",
    "#Ask the user to input the name of three products that a customer wants to order \n",
    "for user_order in range(3):\n",
    "    user_order =  str (input( \" Enter name of the products from the list defined\")).strip()\n",
    "    customer_orders.add(user_order)\n",
    "\n",
    "#Print the products in the customer_orders set.\n",
    "print(\"Products in customer order: \",  customer_orders)\n"
   ]
  },
  {
   "cell_type": "code",
   "execution_count": 6,
   "metadata": {
    "tags": []
   },
   "outputs": [
    {
     "name": "stdout",
     "output_type": "stream",
     "text": [
      "The total products in customer order has 3 items.\n",
      " Percentage of products ordered:  60.0\n",
      "Order status: (3, 60.0)\n"
     ]
    }
   ],
   "source": [
    "#Calculate the following order statistics:\n",
    " #Total Products Ordered: The total number of products in the customer_orders set.\n",
    "total_items_in_order = len(customer_orders)\n",
    "print(f\"The total products in customer order has {total_items_in_order} items.\") \n",
    "\n",
    " #Percentage of Products Ordered: The percentage of products ordered compared to the total available products.\n",
    "    \n",
    "percentage_products_ordered = total_items_in_order / len (products) * 100\n",
    "\n",
    "print(\" Percentage of products ordered: \", percentage_products_ordered  )\n",
    "\n",
    "# Store these statistics in a tuple called order_status\n",
    "order_status = (total_items_in_order, percentage_products_ordered)\n",
    "\n",
    "# Print the tuple containing stats\n",
    "print(\"Order status:\", order_status)\n",
    "    "
   ]
  },
  {
   "cell_type": "markdown",
   "metadata": {
    "tags": []
   },
   "source": [
    "# Lab | Data Structures "
   ]
  },
  {
   "cell_type": "code",
   "execution_count": 8,
   "metadata": {
    "tags": []
   },
   "outputs": [
    {
     "name": "stdout",
     "output_type": "stream",
     "text": [
      "Updated inventory:\n",
      "t-shirt: 10\n",
      "mug: 9\n",
      "hat: 9\n",
      "book: 10\n",
      "keychain: 9\n"
     ]
    }
   ],
   "source": [
    "# Update the inventory by subtracting 1 from the quantity of each ordered product\n",
    "for product in customer_orders:\n",
    "    # Convert the current inventory quantity from string to integer (if necessary)\n",
    "    current_quantity = int(inventory[product])\n",
    "    # Subtract 1 from the current quantity\n",
    "    inventory[product] = current_quantity - 1\n",
    "\n",
    "# Print the updated inventory, displaying the quantity of each product on separate lines\n",
    "print(\"Updated inventory:\")\n",
    "for item, quantity in inventory.items():\n",
    "    print(f\"{item}: {quantity}\")"
   ]
  },
  {
   "cell_type": "markdown",
   "metadata": {
    "tags": []
   },
   "source": [
    "# Update the inventory by subtracting 1 from the quantity of each ordered product\n",
    "for product in customer_orders:\n",
    "    # Convert the current inventory quantity from string to integer (if necessary)\n",
    "    current_quantity = int(inventory[product])\n",
    "    # Subtract 1 from the current quantity\n",
    "    inventory[product] = current_quantity - 1\n",
    "\n",
    "# Print the updated inventory, displaying the quantity of each product on separate lines\n",
    "print(\"Updated inventory:\")\n",
    "for item, quantity in inventory.items():\n",
    "    print(f\"{item}: {quantity}\")## Exercise: Managing Customer Orders\n",
    "\n",
    "As part of a business venture, you are starting an online store that sells various products. To ensure smooth operations, you need to develop a program that manages customer orders and inventory.\n",
    "\n",
    "Follow the steps below to complete the exercise:\n",
    "\n",
    "1. Define a list called `products` that contains the following items: \"t-shirt\", \"mug\", \"hat\", \"book\", \"keychain\".\n",
    "\n",
    "2. Create an empty dictionary called `inventory`.\n",
    "\n",
    "3. Ask the user to input the quantity of each product available in the inventory. Use the product names from the `products` list as keys in the `inventory` dictionary and assign the respective quantities as values.\n",
    "\n",
    "4. Create an empty set called `customer_orders`.\n",
    "\n",
    "5. Ask the user to input the name of three products that a customer wants to order (from those in the products list, meaning three products out of \"t-shirt\", \"mug\", \"hat\", \"book\" or \"keychain\". Add each product name to the `customer_orders` set.\n",
    "\n",
    "6. Print the products in the `customer_orders` set.\n",
    "\n",
    "7. Calculate the following order statistics:\n",
    "   - Total Products Ordered: The total number of products in the `customer_orders` set.\n",
    "   - Percentage of Products Ordered: The percentage of products ordered compared to the total available products.\n",
    "   \n",
    "   Store these statistics in a tuple called `order_status`.\n",
    "\n",
    "8. Print the order statistics using the following format:\n",
    "   ```\n",
    "   Order Statistics:\n",
    "   Total Products Ordered: <total_products_ordered>\n",
    "   Percentage of Products Ordered: <percentage_ordered>% \n",
    "   ```\n",
    "\n",
    "9. Update the inventory by subtracting 1 from the quantity of each product. Modify the `inventory` dictionary accordingly.\n",
    "\n",
    "10. Print the updated inventory, displaying the quantity of each product on separate lines.\n",
    "\n",
    "Solve the exercise by implementing the steps using the Python concepts of lists, dictionaries, sets, and basic input/output operations. "
   ]
  }
 ],
 "metadata": {
  "kernelspec": {
   "display_name": "Python 3 (ipykernel)",
   "language": "python",
   "name": "python3"
  },
  "language_info": {
   "codemirror_mode": {
    "name": "ipython",
    "version": 3
   },
   "file_extension": ".py",
   "mimetype": "text/x-python",
   "name": "python",
   "nbconvert_exporter": "python",
   "pygments_lexer": "ipython3",
   "version": "3.11.5"
  }
 },
 "nbformat": 4,
 "nbformat_minor": 4
}
